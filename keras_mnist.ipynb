{
 "cells": [
  {
   "cell_type": "markdown",
   "metadata": {},
   "source": [
    "# Keras\n",
    "\n",
    "Wir verwenden die folgenden Plattformen, um unsere AI Exploration weiterzuführen:\n",
    "\n",
    "* Keras: eine AI-Plattform, die auf die das TensorFlow-Backend von Google aufsetzt.\n",
    "* OpenAI Gym: eine Sammlung von Problemen (z.B. Games), die über eine einheitliche Schnittstelle gelöst bzw. trainiert werden können.\n",
    "\n",
    "Bevor wir uns wieder dem Reinforcement Learning zuwenden, lernen wir die obigen Werkzeuge kennen, indem wir ein bekanntes Problem lösen: die Erkennung der MNIST-Digits.\n",
    "\n",
    "Zuerst importieren wir die nötigen Bibliotheken:"
   ]
  },
  {
   "cell_type": "code",
   "execution_count": 2,
   "metadata": {},
   "outputs": [
    {
     "name": "stdout",
     "output_type": "stream",
     "text": [
      "Collecting package metadata (current_repodata.json): done\n",
      "Solving environment: done\n",
      "\n",
      "# All requested packages already installed.\n",
      "\n",
      "\n",
      "Note: you may need to restart the kernel to use updated packages.\n"
     ]
    }
   ],
   "source": [
    "%conda install numpy tensorflow matplotlib\n",
    "\n",
    "# Imports\n",
    "import numpy as np\n",
    "from tensorflow import keras\n",
    "from tensorflow.keras import layers\n",
    "from matplotlib import pyplot\n"
   ]
  },
  {
   "cell_type": "markdown",
   "metadata": {},
   "source": [
    "## Das MNIST-Dataset\n",
    "Das MNIST-Dataset ist bereits als Beispiel verfügbar."
   ]
  },
  {
   "cell_type": "code",
   "execution_count": 5,
   "metadata": {},
   "outputs": [],
   "source": [
    "mnist_digits = keras.datasets.mnist.load_data()"
   ]
  },
  {
   "cell_type": "markdown",
   "metadata": {},
   "source": [
    "Wir bereiten das Modell vor und teilen das Dataset in vier Teile:\n",
    "* Train vs. Test\n",
    "  * Train: verwenden wir, um eine AI zu trainieren\n",
    "  * Test: verwenden wir, um die Qualität der AI zu messen (die Test-Daten dürfen nicht fürs Training verwendet werden, sonst könnte die AI die Daten auswendig lernen (overfitting)).\n",
    "* `x` vs. `y`\n",
    "  * `x` bezeichnet üblicherweise die Quelldaten, im Beispiel die Bilder (Pixel).\n",
    "  * `y` bezeichnet üblicherweise die Labels (also die wahren Werte)"
   ]
  },
  {
   "cell_type": "code",
   "execution_count": 6,
   "metadata": {},
   "outputs": [],
   "source": [
    "# Split the data between train and test sets\n",
    "(x_train, y_train), (x_test, y_test) = mnist_digits"
   ]
  },
  {
   "cell_type": "markdown",
   "metadata": {},
   "source": [
    "Wir schauen uns an, wie die Daten aussehen:"
   ]
  },
  {
   "cell_type": "code",
   "execution_count": 7,
   "metadata": {},
   "outputs": [
    {
     "name": "stdout",
     "output_type": "stream",
     "text": [
      "Shape of training data (x_train[0]): (28, 28)\n",
      "Content of labels (y_train[0]): 5\n"
     ]
    },
    {
     "data": {
      "image/png": "[encoded data removed]",
      "text/plain": [
       "<Figure size 432x288 with 3 Axes>"
      ]
     },
     "metadata": {
      "needs_background": "light"
     },
     "output_type": "display_data"
    }
   ],
   "source": [
    "print(f\"Shape of training data (x_train[0]): {x_train[0].shape}\")\n",
    "print(f\"Content of labels (y_train[0]): {y_train[0]}\")\n",
    "\n",
    "fig, axs = pyplot.subplots(ncols=3)\n",
    "# Lets print a few samples:\n",
    "for i in range(3):\n",
    "    # Plot raw pixel data aus x_train\n",
    "    axs[i].imshow(x_train[i], cmap=pyplot.get_cmap('gray'))\n",
    "    axs[i].set_title(y_train[i])\n",
    "    axs[i].set_axis_off()"
   ]
  },
  {
   "cell_type": "markdown",
   "metadata": {},
   "source": [
    "Die Daten müssen noch etwas massiert werden, um die richtige Form (\"shape\") zu haben."
   ]
  },
  {
   "cell_type": "code",
   "execution_count": 8,
   "metadata": {},
   "outputs": [
    {
     "name": "stdout",
     "output_type": "stream",
     "text": [
      "x_train shape: (60000, 28, 28)\n",
      "60000 train samples\n",
      "10000 test samples\n",
      "Labels before one-hot categorical conversion: shape: (60000,), example: 5\n",
      "Labels after one-hot categorical conversion: shape: (60000, 10), example: [0. 0. 0. 0. 0. 1. 0. 0. 0. 0.]\n"
     ]
    }
   ],
   "source": [
    "# Model / data parameters\n",
    "num_classes = 10  # Number of unique digits\n",
    "input_shape = (28, 28)  # 28x28 pixels\n",
    "\n",
    "# Scale [1, 255] pixels to the [0, 1] range\n",
    "x_train = x_train.astype(\"float32\") / 255\n",
    "x_test = x_test.astype(\"float32\") / 255\n",
    "print(\"x_train shape:\", x_train.shape)\n",
    "print(x_train.shape[0], \"train samples\")\n",
    "print(x_test.shape[0], \"test samples\")\n",
    "\n",
    "# Convert class vectors to binary class matrices (one-hot encoding)\n",
    "print(f\"Labels before one-hot categorical conversion: shape: {y_train.shape}, example: {y_train[0]}\")\n",
    "y_train = keras.utils.to_categorical(y_train, num_classes)\n",
    "y_test = keras.utils.to_categorical(y_test, num_classes)\n",
    "print(f\"Labels after one-hot categorical conversion: shape: {y_train.shape}, example: {y_train[0]}\")"
   ]
  },
  {
   "cell_type": "markdown",
   "metadata": {},
   "source": [
    "## Build the Model\n",
    "\n",
    "Nun können wir das neuronale Netzwerk definieren. Wir wählen ein ganz simples Netzwerk: \n",
    "* ein Input-Layer, der _flachgedrückt_ (flattened) wird, d.h. aus 28x28 Pixel werden 784x1 Zahlen.\n",
    "* ein Output-Layer, der auf die zehn möglichen Ziffern (_categories_) schliesst. `Dense` bedeutet, dass der Layer _fully-connected_ ist, also dass jedes der 784 Input-Neuronen durch eine Synapse mit jedem Output-Neuron verbunden ist.\n",
    "* als [Activation-Function](https://ml-cheatsheet.readthedocs.io/en/latest/nn_concepts.html#activation-functions) wählen wir [softmax](https://ml-cheatsheet.readthedocs.io/en/latest/activation_functions.html#softmax)\n",
    "  * softmax berechnet einen Vektor mit der Betragssumme 1 und kann so als Wahrscheinlichkeitsverteilung über die 10 Klassen angesehen werden."
   ]
  },
  {
   "cell_type": "code",
   "execution_count": 9,
   "metadata": {},
   "outputs": [
    {
     "name": "stdout",
     "output_type": "stream",
     "text": [
      "Model: \"sequential\"\n",
      "_________________________________________________________________\n",
      "Layer (type)                 Output Shape              Param #   \n",
      "=================================================================\n",
      "flatten (Flatten)            (None, 784)               0         \n",
      "_________________________________________________________________\n",
      "dense (Dense)                (None, 10)                7850      \n",
      "=================================================================\n",
      "Total params: 7,850\n",
      "Trainable params: 7,850\n",
      "Non-trainable params: 0\n",
      "_________________________________________________________________\n"
     ]
    },
    {
     "name": "stderr",
     "output_type": "stream",
     "text": [
      "2022-04-22 14:37:43.871011: I tensorflow/core/platform/cpu_feature_guard.cc:142] This TensorFlow binary is optimized with oneAPI Deep Neural Network Library (oneDNN) to use the following CPU instructions in performance-critical operations:  SSE4.1 SSE4.2\n",
      "To enable them in other operations, rebuild TensorFlow with the appropriate compiler flags.\n"
     ]
    }
   ],
   "source": [
    "model = keras.Sequential(\n",
    "    [\n",
    "       keras.Input(shape=input_shape),\n",
    "       layers.Flatten(),\n",
    "       layers.Dense(num_classes, activation=\"softmax\"),\n",
    "    ]\n",
    ")\n",
    "\n",
    "model.summary()"
   ]
  },
  {
   "cell_type": "markdown",
   "metadata": {},
   "source": [
    "Die Anzahl Parameter ergibt sich aus der Anzahl Synapsen (Verbindungen: 784 * 10) plus der Anzahl _Biases_ (je einer pro Output-Neuron, also 1 * 10)."
   ]
  },
  {
   "cell_type": "markdown",
   "metadata": {},
   "source": [
    "## Train the Model\n",
    "\n",
    "Wir können das Modell bereits trainieren. Das Training teilt sich zweifach:\n",
    "* _Batch_: Anzahl Samples (Trainings-Daten) die mit dem gleichen Modell evaluiert werden, bevor das Modell geändert wird.\n",
    "  * Die Gradienten werden addiert.\n",
    "  * Nach dem Batch wird das Modell anhand der akkumulierten Gradienten angepasst.\n",
    "  * Je nach Optimizer werden alle (Batch Gradient Descent) oder nur ein paar wenige (Stochastic Gradient Descent) Samples des Batch für die Back Propagation verwendet.\n",
    "* _Epoche_: Wie oft das ganze Dataset trainiert wird.\n",
    "  * Ist `epochs=1` hat jedes Sample genau eine Chance, das Modell zu beinflussen.\n",
    "  * Nach jeder Epoche wird validiert, wie gut das Modell bereits ist. Dazu wird ein Teil der Trainings-Daten evaluiert. `validation_split=0.1` besagt, dass 10% der Trainingsdaten für die Validierung zur Seite gestellt werden.\n",
    "  * Bei einer `batch_size = 128` und `validation_split=0.1` gibt es `60000*(1-0.1)/128 = 422` Model Updates pro Epoche.\n",
    "\n",
    "Man kann sich das als zwei verschachtelte for-Loops vorstellen: Der äussere Loop definiert die Epochen und teilt das Dataset in Batches auf. Der innere Loop evaluiert jeden Batch und akkumuliert dabei den Fehler. Am Schluss jedes Batches wird das Modell angepasst mit Back Prop.\n",
    "\n",
    "Wir müssen angeben\n",
    "* Loss-Funktion - wir wählen `categorical_crossentropy` ([Details hier](https://ml-cheatsheet.readthedocs.io/en/latest/loss_functions.html#cross-entropy)).\n",
    "* Optimizer - es gibt mittlerweile eine Vielzahl von Backprop-Algorithmen, die schneller konvergieren als SGD (_Stochastic Gradient Descent_), wir verwenden den populären [Adam]-Algorithmus."
   ]
  },
  {
   "cell_type": "code",
   "execution_count": 20,
   "metadata": {},
   "outputs": [
    {
     "name": "stdout",
     "output_type": "stream",
     "text": [
      "Epoch 1/5\n",
      "422/422 [==============================] - 1s 1ms/step - loss: 0.2816 - accuracy: 0.9205 - val_loss: 0.2312 - val_accuracy: 0.9375\n",
      "Epoch 2/5\n",
      "422/422 [==============================] - 0s 1ms/step - loss: 0.2674 - accuracy: 0.9258 - val_loss: 0.2292 - val_accuracy: 0.9380\n",
      "Epoch 3/5\n",
      "422/422 [==============================] - 0s 1ms/step - loss: 0.2662 - accuracy: 0.9262 - val_loss: 0.2260 - val_accuracy: 0.9400\n",
      "Epoch 4/5\n",
      "422/422 [==============================] - 0s 1ms/step - loss: 0.2674 - accuracy: 0.9239 - val_loss: 0.2261 - val_accuracy: 0.9403\n",
      "Epoch 5/5\n",
      "422/422 [==============================] - 0s 1ms/step - loss: 0.2682 - accuracy: 0.9250 - val_loss: 0.2252 - val_accuracy: 0.9398\n"
     ]
    }
   ],
   "source": [
    "batch_size = 128\n",
    "epochs = 5\n",
    "\n",
    "model.compile(loss=\"categorical_crossentropy\", optimizer=\"adam\", metrics=[\"accuracy\"])\n",
    "history = model.fit(x_train, y_train, batch_size=batch_size, epochs=epochs, validation_split=0.1)"
   ]
  },
  {
   "cell_type": "markdown",
   "metadata": {},
   "source": [
    "## Evaluation\n",
    "Wenn die Train-Accuracy gut genug ist, evaluieren wir das Modell anhand der zu Beginn zurückgestellten Test-Daten.\n",
    "\n",
    "Die _Accuracy_ misst den Quotienten der richtigen Antworten, 0.92 entspricht also einer Fehlerquote von 8%."
   ]
  },
  {
   "cell_type": "code",
   "execution_count": 21,
   "metadata": {},
   "outputs": [
    {
     "name": "stdout",
     "output_type": "stream",
     "text": [
      "313/313 [==============================] - 0s 509us/step - loss: 0.2653 - accuracy: 0.9254\n",
      "Test loss: 0.2652795910835266\n",
      "Test accuracy: 0.9254000186920166\n"
     ]
    },
    {
     "data": {
      "image/png": "[encoded data removed]",
      "text/plain": [
       "<Figure size 432x288 with 9 Axes>"
      ]
     },
     "metadata": {
      "needs_background": "light"
     },
     "output_type": "display_data"
    },
    {
     "data": {
      "image/png": "[encoded data removed]",
      "text/plain": [
       "<Figure size 432x288 with 1 Axes>"
      ]
     },
     "metadata": {
      "needs_background": "light"
     },
     "output_type": "display_data"
    }
   ],
   "source": [
    "score = model.evaluate(x_test, y_test, verbose=1)\n",
    "print(\"Test loss:\", score[0])\n",
    "print(\"Test accuracy:\", score[1])\n",
    "\n",
    "# Look at false predictions\n",
    "def show_error_exemplars(model, data, labels):\n",
    "    predictions = model.predict(data[:1000], batch_size=128)\n",
    "    max_predictions = np.argmax(predictions, axis=-1)\n",
    "    max_labels = np.argmax(labels[:1000], axis=-1)\n",
    "\n",
    "    delta = np.where(np.not_equal(max_predictions, max_labels))[0][:9]\n",
    "    fig, axs = pyplot.subplots(ncols=9)\n",
    "    for i, idx in enumerate(delta):\n",
    "        # Plot raw pixel data aus x_train\n",
    "        axs[i].imshow(x_test[idx], cmap=pyplot.get_cmap('gray'))\n",
    "        axs[i].set_title(f\"p:{max_predictions[idx]} l:{max_labels[idx]}\")\n",
    "        axs[i].set_axis_off()\n",
    "\n",
    "def plot_hist(hist):\n",
    "    pyplot.figure()\n",
    "    pyplot.plot(hist.history[\"accuracy\"])\n",
    "    pyplot.plot(hist.history[\"val_accuracy\"])\n",
    "    pyplot.plot(hist.history[\"loss\"])\n",
    "    pyplot.plot(hist.history[\"val_loss\"])\n",
    "    pyplot.title(\"Training Progress\")\n",
    "    pyplot.ylabel(\"Accuracy/Loss\")\n",
    "    pyplot.xlabel(\"Epochs\")\n",
    "    pyplot.legend([\"train_acc\", \"val_acc\", \"train_loss\", \"val_loss\"], loc=\"upper left\")\n",
    "    pyplot.show()\n",
    "\n",
    "\n",
    "show_error_exemplars(model, x_test, y_test)\n",
    "plot_hist(history)\n"
   ]
  },
  {
   "cell_type": "markdown",
   "metadata": {},
   "source": [
    "### Fragen\n",
    "1. Wie werden die verfügbaren Daten aufgeteilt?\n",
    "  * in welche Teile mit welcher Funktion?\n",
    "  * wozu?\n",
    "2. Was ist das One-Hot-Encoding?\n",
    "3. Was ist der Unterschied von Batch und Epoche?\n",
    "4. Was misst die Accuracy eigentlich?\n",
    "\n",
    "### Aufgaben\n",
    "1. Spiele mit den _Metaparametern_: was passiert mit der Trainingszeit und der Accuracy wenn du `batch_size` auf `1` setzt? Weshalb?\n",
    "2. Probiere andere _Optimizer_ aus, zum Beispiel `\"adam\"`.\n",
    "3. Weshalb ist die Accuracy in der Evaluation oft schlechter als während des Trainings rapportiert?"
   ]
  },
  {
   "cell_type": "markdown",
   "metadata": {},
   "source": [
    "### Moar Layers\n",
    "\n",
    "Das bestehende Modell ist ja sehr einfach - es hat gar keine hidden Layers.\n",
    "* Können wir besser werden, wenn wir einen (oder 4) zusätzlichen hidden Layer einfügen?\n",
    "* Was passiert mit der Modellgrösse (Anzahl lernbarer Parameter)? Der Trainingszeit?"
   ]
  },
  {
   "cell_type": "code",
   "execution_count": 23,
   "metadata": {},
   "outputs": [
    {
     "name": "stdout",
     "output_type": "stream",
     "text": [
      "Model: \"sequential_3\"\n",
      "_________________________________________________________________\n",
      "Layer (type)                 Output Shape              Param #   \n",
      "=================================================================\n",
      "flatten_3 (Flatten)          (None, 784)               0         \n",
      "_________________________________________________________________\n",
      "dense_7 (Dense)              (None, 512)               401920    \n",
      "_________________________________________________________________\n",
      "dense_8 (Dense)              (None, 512)               262656    \n",
      "_________________________________________________________________\n",
      "dense_9 (Dense)              (None, 512)               262656    \n",
      "_________________________________________________________________\n",
      "dense_10 (Dense)             (None, 512)               262656    \n",
      "_________________________________________________________________\n",
      "dense_11 (Dense)             (None, 10)                5130      \n",
      "=================================================================\n",
      "Total params: 1,195,018\n",
      "Trainable params: 1,195,018\n",
      "Non-trainable params: 0\n",
      "_________________________________________________________________\n",
      "Epoch 1/5\n",
      "422/422 [==============================] - 6s 15ms/step - loss: 0.4464 - accuracy: 0.8596 - val_loss: 0.1312 - val_accuracy: 0.9600\n",
      "Epoch 2/5\n",
      "422/422 [==============================] - 6s 15ms/step - loss: 0.1579 - accuracy: 0.9516 - val_loss: 0.1435 - val_accuracy: 0.9577\n",
      "Epoch 3/5\n",
      "422/422 [==============================] - 6s 15ms/step - loss: 0.1156 - accuracy: 0.9645 - val_loss: 0.0909 - val_accuracy: 0.9748\n",
      "Epoch 4/5\n",
      "422/422 [==============================] - 6s 15ms/step - loss: 0.0846 - accuracy: 0.9732 - val_loss: 0.0814 - val_accuracy: 0.9763\n",
      "Epoch 5/5\n",
      "422/422 [==============================] - 6s 15ms/step - loss: 0.0714 - accuracy: 0.9775 - val_loss: 0.0868 - val_accuracy: 0.9768\n"
     ]
    }
   ],
   "source": [
    "model2 = keras.Sequential(\n",
    "    [\n",
    "       keras.Input(shape=input_shape),\n",
    "       layers.Flatten(),\n",
    "       layers.Dense(512, activation=\"elu\"),\n",
    "       layers.Dense(512, activation=\"elu\"),\n",
    "       layers.Dense(512, activation=\"elu\"),\n",
    "       layers.Dense(512, activation=\"elu\"),\n",
    "       layers.Dense(num_classes, activation=\"softmax\"),\n",
    "    ]\n",
    ")\n",
    "\n",
    "model2.summary()\n",
    "\n",
    "model2.compile(loss=\"categorical_crossentropy\", optimizer=\"adam\", metrics=[\"accuracy\"])\n",
    "history2 = model2.fit(x_train, y_train, batch_size=batch_size, epochs=5, validation_split=0.1)\n"
   ]
  },
  {
   "cell_type": "code",
   "execution_count": 24,
   "metadata": {},
   "outputs": [
    {
     "name": "stdout",
     "output_type": "stream",
     "text": [
      "313/313 [==============================] - 1s 4ms/step - loss: 0.0838 - accuracy: 0.9738\n",
      "Test loss: 0.08379204571247101\n",
      "Test accuracy: 0.973800003528595\n"
     ]
    },
    {
     "data": {
      "image/png": "[encoded data removed]",
      "text/plain": [
       "<Figure size 432x288 with 9 Axes>"
      ]
     },
     "metadata": {
      "needs_background": "light"
     },
     "output_type": "display_data"
    },
    {
     "data": {
      "image/png": "[encoded data removed]",
      "text/plain": [
       "<Figure size 432x288 with 1 Axes>"
      ]
     },
     "metadata": {
      "needs_background": "light"
     },
     "output_type": "display_data"
    }
   ],
   "source": [
    "score = model2.evaluate(x_test, y_test, verbose=1)\n",
    "\n",
    "print(\"Test loss:\", score[0])\n",
    "print(\"Test accuracy:\", score[1])\n",
    "\n",
    "show_error_exemplars(model2, x_test, y_test)\n",
    "plot_hist(history2)"
   ]
  },
  {
   "cell_type": "markdown",
   "metadata": {},
   "source": [
    "### Kein Overfitting?\n",
    "Eigentlich wäre zu erwarten, dass ein Netzwerk mit über 1e6 Parametern und 6e4 Samples zu massivem Overfitting neigte: das Modell würde dann die Samples auswendig lernen, aber im Evaluations-Durchgang viel schlechter abschneiden, weil es nicht mehr gut generalisiert.\n",
    "\n",
    "Interessanterweise scheint das Netzwerk keine Anzeichen für massives Overfitting zu zeigen.\n",
    "\n",
    "[Hier gibt es ein paar Gedanken](https://datascience.stackexchange.com/questions/19874/why-doesnt-overfitting-devastate-neural-networks-for-mnist-classification) dazu, weshalb das nicht passiert."
   ]
  },
  {
   "cell_type": "markdown",
   "metadata": {},
   "source": [
    "## Convolutional Neural Networks\n",
    "\n",
    "Wie können wir unser simples Modell verbessern? Zusätzliche hidden Layers haben nicht den gewünschten Effekt gebracht, aber die Trainingskosten dramatisch vergrössert.\n",
    "\n",
    "Seit dem Erfolg von [AlexNet (2012)](https://en.wikipedia.org/wiki/AlexNet) ist das Standard-Verfahren dazu die Einführung von convolutional Layers, womit unser Modell ein Convolutional Neural Network (CNN) wird.\n",
    "\n",
    "Wir beschäftigen uns hier nur ganz kurz mit den grundlegenden Ideen von CNNs - wer mehr dazu wissen möchte, liest bei [Wikipedia](https://en.wikipedia.org/wiki/Convolutional_neural_network) oder im [Deep Learning Book](https://www.deeplearningbook.org/contents/convnets.html).\n",
    "\n",
    "CNNs werden durch zwei Beobachtungen inspiriert:\n",
    "\n",
    "### Struktur von Bilddaten\n",
    "\n",
    "Beim Einsatz eines dense Layers kann jedes Pixel gleichberechtigt mit jedem anderen Pixel die Wahrnehmung beeinflussen. Die Nachbarschaft von zwei Pixel oder die zweidimensionale Struktur des Bildes spielen dabei überhaupt keine Rolle - und tatsächlich haben wir ja oben die Information über die Zweidimensionalität aufgegeben und die Pixels geflatted.\n",
    "\n",
    "Intuitiv scheint aber klar, dass die Nachbarschaft von Pixeln für die Interpretation des Bildes wichtig ist: Primitive Eigenschaften wie Kanten, aber auch höhere Eigenschaften (\"enthält ein Bereich des Bildes ein Auge, eine Nase?\") entstehen erst durch die Kombination von mehreren Pixeln auf einem begrenzten Raum. Wir möchten also ein Modell schaffen, das die Nachbarschaft berücksichtigt.\n",
    "\n",
    "In einer anderen Sichtweise sind die Verbindungen zwischen weit entfernten Pixeln überflüssig, und unser Modell enthält also viel zu viele freie Parameter, die unnötige Trainingszeit und Speicher benötigen.\n",
    "\n",
    "Eine weitere Beobachtung ist, dass insbesondere primitive Eigenschaften überall im Bild ähnlich aussehen. Beispielsweise können wir eine vertikale Kante detektieren indem wir die Differenz zwischen zwei horizontal benachbarten Pixel berechnen. Diese Differenzberechnung wird aber überall im Bild gleich funktionieren (beispielsweise als Multiplikation mit [-1, 1]). Wir möchten also die gleichen Parameter (Gewichte) für das ganze Bild verwenden (_parameter sharing_).\n",
    "\n",
    "### Visuelle Verarbeitung im Gehirn\n",
    "Versuche mit Katzen haben bereits in den 1960er Jahren gezeigt, dass der visuelle Cortex die Bilddaten des Sehnervs räumlich verarbeitet: Die Signale durchlaufen den Cortex in derselben 2D-Struktur, wie sie von der Netzhaut detektiert wurden. Die Schichten des Cortex detektieren mit zunehmender Laufzeit immer höherwertige Eigenschaften des Bildes, also zuerst horizontale und vertikale Kanten, später geometrische Muster, Bildteile wie \"Auge\", \"Nase\", und schliesslich werden ganze Konzepte wie \"Barack Obama\" erkannt. Die ersten Neuronen in den ersten Schichten verarbeiten für die Mustererkennung jeweils nur ein kleines, räumlich begrenztes \"receptive Field\".\n",
    "\n",
    "### Umsetzung\n",
    "Ein Conv-Layer besteht aus einer *Kernel*-Matrix, beispielsweise 3x3 Pixeln. Dieser Kernel wird über alle möglichen Positionen des Inputs geschoben und mit dem aktuellen Ausschnitt multipliziert. Für jeden Ausschnitt wird dabei ein Wert in den Output des Layers geschrieben. \n",
    "\n",
    "Haben wir also einen Kernel, der Kanten detektiert, wird der Output ein Bild ähnlich wie dieses Produzieren:\n",
    "\n",
    "<table>\n",
    "  <tr>\n",
    "  <td>\n",
    "    <figure>\n",
    "      <img src=\"https://upload.wikimedia.org/wikipedia/commons/5/50/Vd-Orig.png\" alt=\"Original\"/>\n",
    "    </figure>\n",
    "  </td>\n",
    "  <td>\n",
    "    <figure>\n",
    "      <img src=\"https://wikimedia.org/api/rest_v1/media/math/render/svg/1445b36fef5ec4ca0e0b5d7e200c90afaf6af58b\" />\n",
    "    </figure>\n",
    "  </td>\n",
    "  <td>\n",
    "    <figure>\n",
    "      <img src=\"https://upload.wikimedia.org/wikipedia/commons/2/20/Vd-Rige1.png\" alt=\"Ridge-Detection\"/>\n",
    "    </figure>\n",
    "  </td>\n",
    "  </tr>\n",
    "  <tr>\n",
    "  <td>\n",
    "      <figcaption>Original-Bild</figcaption>\n",
    "  </td>\n",
    "  <td>\n",
    "      <figcaption>Kernel-Matrix</figcaption>\n",
    "  </td>\n",
    "  <td>\n",
    "      <figcaption>Kanten-Features (grau: keine Kante)</figcaption>\n",
    "  </td>\n",
    "  </tr>\n",
    "</table>\n",
    "\n",
    "[Quelle / Mehr bei Wikipedia](https://en.wikipedia.org/wiki/Kernel_(image_processing))\n",
    "\n",
    "#### Parameter Sharing\n",
    "Weil die Kantendetektion überall im Bild gleich läuft, werden die Gewichte für die Kernel-Matrix geteilt. Wir lernen also nicht separate Gewichte für jeden Bildausschnitt, sondern nur 9 Gewichte (für den 3x3-Kernel), was die Komplexität und den Speicherbedarf des Modells massiv reduziert. \n",
    "\n",
    "Für den Feed-Forward spielt dies keine grosse Rolle, aber bei der Backpropagation werden die Kernel-Gewichte gemeinsam für alle Bildausschnitte gelernt.\n",
    "\n",
    "Damit wird Rechenkapazität frei, und wir können stattdessen pro Conv-Layer nicht nur einen, sondern eine Vielzahl (im Beispiel unten: 32) von Kernels trainieren, die unterschiedliche Konzepte in verschiedenen Ausrichtungen detektieren. Oft spricht man bei der Anzahl von Kernels von der Tiefe (_depth_) des Layers.\n",
    "\n",
    "Je nachdem, wie mit die Ausschnitte am Rand des Bildes behandelt werden, führen Conv-Layers dazu, dass die Output-Grösse etwas kleiner wird als der Input. Bei unserem 3x3-Kernel wird der Output von 28x28 auf 26x26 Pixel gestutzt.\n",
    "\n",
    "#### Pooling\n",
    "Für die Bildwahrnehmung ist es oft egal, ob eine Eigenschaft (_Feature_) um ein paar wenige Pixel verschoben auftritt. Dies trifft auf primitive Features (Kanten...) genauso zu wie auf höhere Features (\"Auge in der oberen Bildhälfte\").\n",
    "\n",
    "Dazu verwenden wir einen _Max-Pooling-Layer_, d.h. einen Layer ohne trainierbare Parameter der aus einem 2x2-Bereich des Inputs jeweils das Maximum auswählt. Dies führt dazu, dass tiefere Layer nur noch gröbere Informationen über die Positionen der detektierten Features erhalten; entsprechend wird beim Pooling die Output-Grösse halbiert.\n",
    "\n",
    "<figure>\n",
    "  <img src=\"https://upload.wikimedia.org/wikipedia/commons/e/e9/Max_pooling.png\" alt=\"Max-Pooling with a 2x2 window\"/>\n",
    "  <figcaption>Max-Pooling mit 2x2-Fenster</figcaption>\n",
    "</figure>\n",
    "\n",
    "#### Zusammenfassung\n",
    "Das ganze CNN-Modell kann so visualisiert werden (Quelle: WP):\n",
    "\n",
    "<figure>\n",
    "  <img src=\"https://upload.wikimedia.org/wikipedia/commons/6/63/Typical_cnn.png?20151217030420\" alt=\"CNN\"/>\n",
    "  <figcaption>CNN Struktur (Quelle: WP)</figcaption>\n",
    "</figure>\n"
   ]
  },
  {
   "cell_type": "markdown",
   "metadata": {},
   "source": [
    "### Let's Code a CNN"
   ]
  },
  {
   "cell_type": "code",
   "execution_count": 26,
   "metadata": {},
   "outputs": [
    {
     "name": "stdout",
     "output_type": "stream",
     "text": [
      "x_train shape: (60000, 28, 28, 1)\n",
      "60000 train samples\n",
      "10000 test samples\n",
      "Model: \"sequential_5\"\n",
      "_________________________________________________________________\n",
      "Layer (type)                 Output Shape              Param #   \n",
      "=================================================================\n",
      "conv2d_4 (Conv2D)            (None, 26, 26, 32)        320       \n",
      "_________________________________________________________________\n",
      "max_pooling2d_4 (MaxPooling2 (None, 13, 13, 32)        0         \n",
      "_________________________________________________________________\n",
      "conv2d_5 (Conv2D)            (None, 11, 11, 64)        18496     \n",
      "_________________________________________________________________\n",
      "max_pooling2d_5 (MaxPooling2 (None, 5, 5, 64)          0         \n",
      "_________________________________________________________________\n",
      "flatten_5 (Flatten)          (None, 1600)              0         \n",
      "_________________________________________________________________\n",
      "dense_13 (Dense)             (None, 10)                16010     \n",
      "=================================================================\n",
      "Total params: 34,826\n",
      "Trainable params: 34,826\n",
      "Non-trainable params: 0\n",
      "_________________________________________________________________\n",
      "Epoch 1/5\n",
      "422/422 [==============================] - 14s 34ms/step - loss: 0.6607 - accuracy: 0.8118 - val_loss: 0.0759 - val_accuracy: 0.9785\n",
      "Epoch 2/5\n",
      "422/422 [==============================] - 15s 35ms/step - loss: 0.0821 - accuracy: 0.9761 - val_loss: 0.0541 - val_accuracy: 0.9858\n",
      "Epoch 3/5\n",
      "422/422 [==============================] - 17s 40ms/step - loss: 0.0556 - accuracy: 0.9831 - val_loss: 0.0501 - val_accuracy: 0.9863\n",
      "Epoch 4/5\n",
      "422/422 [==============================] - 14s 33ms/step - loss: 0.0427 - accuracy: 0.9868 - val_loss: 0.0447 - val_accuracy: 0.9875\n",
      "Epoch 5/5\n",
      "422/422 [==============================] - 14s 34ms/step - loss: 0.0390 - accuracy: 0.9878 - val_loss: 0.0432 - val_accuracy: 0.9885\n",
      "313/313 [==============================] - 1s 3ms/step - loss: 0.0425 - accuracy: 0.9857\n",
      "Test loss: 0.042520955204963684\n",
      "Test accuracy: 0.9857000112533569\n"
     ]
    },
    {
     "data": {
      "image/png": "[encoded data removed]",
      "text/plain": [
       "<Figure size 432x288 with 9 Axes>"
      ]
     },
     "metadata": {
      "needs_background": "light"
     },
     "output_type": "display_data"
    },
    {
     "data": {
      "image/png": "[encoded data removed]",
      "text/plain": [
       "<Figure size 432x288 with 1 Axes>"
      ]
     },
     "metadata": {
      "needs_background": "light"
     },
     "output_type": "display_data"
    }
   ],
   "source": [
    "# Make sure images have shape (28, 28, 1)\n",
    "# -> We append a singleton (depth=1) dimension at the end (-1), so that the dimensionality\n",
    "#    is the same throughout the model (conv layers will multiple kernels at each\n",
    "#    \"pixel\".)\n",
    "input_shape_1 = (28, 28, 1)\n",
    "x_train_1 = np.expand_dims(x_train, -1)\n",
    "x_test_1 = np.expand_dims(x_test, -1)\n",
    "print(\"x_train shape:\", x_train_1.shape)\n",
    "print(x_train_1.shape[0], \"train samples\")\n",
    "print(x_test_1.shape[0], \"test samples\")\n",
    "\n",
    "model3 = keras.Sequential(\n",
    "    [\n",
    "        keras.Input(shape=input_shape_1),\n",
    "        # First conv-layer: train 32 different 3x3 kernels.\n",
    "        layers.Conv2D(32, kernel_size=(3, 3), activation=\"relu\"),\n",
    "        # Max-pooling downsamples by a factor of 2.\n",
    "        layers.MaxPooling2D(pool_size=(2, 2)),\n",
    "        # Second conv-layer: train 64 detector kernels.\n",
    "        layers.Conv2D(64, kernel_size=(3, 3), activation=\"relu\"),\n",
    "        # And pool again, arriving at 64 5x5 feature maps.\n",
    "        layers.MaxPooling2D(pool_size=(2, 2)),\n",
    "        # Flatten into a single 5x5x64 = 1600 feature vector.\n",
    "        layers.Flatten(),\n",
    "        # Fully-connected (dense) output layer to the 10 digits.\n",
    "        layers.Dense(num_classes, activation=\"softmax\"),\n",
    "    ]\n",
    ")\n",
    "\n",
    "model3.summary()\n",
    "\n",
    "model3.compile(loss=\"categorical_crossentropy\", optimizer=\"adam\", metrics=[\"accuracy\"])\n",
    "history3 = model3.fit(x_train_1, y_train, batch_size=batch_size, epochs=5, validation_split=0.1)\n",
    "\n",
    "score = model3.evaluate(x_test_1, y_test, verbose=1)\n",
    "print(\"Test loss:\", score[0])\n",
    "print(\"Test accuracy:\", score[1])\n",
    "\n",
    "show_error_exemplars(model3, x_test_1, y_test)\n",
    "plot_hist(history3)"
   ]
  }
 ],
 "metadata": {
  "interpreter": {
   "hash": "de82bc81519c2d65f34d5b4a46a5e79a6619fca5d16be922aa7cf3b22a6021de"
  },
  "kernelspec": {
   "display_name": "Python 3.9.7 ('jungleai')",
   "language": "python",
   "name": "python3"
  },
  "language_info": {
   "codemirror_mode": {
    "name": "ipython",
    "version": 3
   },
   "file_extension": ".py",
   "mimetype": "text/x-python",
   "name": "python",
   "nbconvert_exporter": "python",
   "pygments_lexer": "ipython3",
   "version": "3.9.12"
  },
  "orig_nbformat": 4
 },
 "nbformat": 4,
 "nbformat_minor": 2
}
